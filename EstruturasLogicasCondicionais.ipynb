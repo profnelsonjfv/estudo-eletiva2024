{
  "nbformat": 4,
  "nbformat_minor": 0,
  "metadata": {
    "colab": {
      "provenance": [],
      "include_colab_link": true
    },
    "kernelspec": {
      "name": "python3",
      "display_name": "Python 3"
    },
    "language_info": {
      "name": "python"
    }
  },
  "cells": [
    {
      "cell_type": "markdown",
      "metadata": {
        "id": "view-in-github",
        "colab_type": "text"
      },
      "source": [
        "<a href=\"https://colab.research.google.com/github/profnelsonjfv/estudo-eletiva2024/blob/main/EstruturasLogicasCondicionais.ipynb\" target=\"_parent\"><img src=\"https://colab.research.google.com/assets/colab-badge.svg\" alt=\"Open In Colab\"/></a>"
      ]
    },
    {
      "cell_type": "markdown",
      "source": [
        "##Material para a aula de Eletiva do dia 26/06/20234"
      ],
      "metadata": {
        "id": "MZSGkhpndwUx"
      }
    },
    {
      "cell_type": "code",
      "source": [
        "var1=int(input('Informe a temperatura da água: '))\n",
        "if 0 < var1 < 100:\n",
        "     print('Líguido')\n",
        "elif var1 >= 100:\n",
        "    print('Gasoso')\n",
        "else:\n",
        "    print('Congelado')\n"
      ],
      "metadata": {
        "colab": {
          "base_uri": "https://localhost:8080/"
        },
        "id": "X734i-j39uf2",
        "outputId": "ae7b86f3-c777-425c-83d6-029f345a472d"
      },
      "execution_count": null,
      "outputs": [
        {
          "output_type": "stream",
          "name": "stdout",
          "text": [
            "Informe a temperatura da água: 200\n",
            "Gasoso\n"
          ]
        }
      ]
    },
    {
      "cell_type": "code",
      "source": [
        "\n",
        "    numero = int(input(\"Digite um número qualquer: \"))\n",
        "    if numero % 2 == 0:\n",
        "      print(\"O número é par.\")\n",
        "    else:\n",
        "      print(\"O número é ímpar.\")\n"
      ],
      "metadata": {
        "id": "SAFtumw3rQxv"
      },
      "execution_count": null,
      "outputs": []
    },
    {
      "cell_type": "code",
      "source": [
        "# As estruturas lógicas e condicionais são muito importantes na programação.\n",
        "# Vamos verificar se um número é par ou ímpar.\n",
        "# Remova o # das linhas abaixo e veja o resultado!\n",
        "try:\n",
        "    numero = int(input(\"Digite um número qualquer: \"))\n",
        "    if numero % 2 == 0:\n",
        "      print(\"O número é par.\")\n",
        "    else:\n",
        "      print(\"O número é ímpar.\")\n",
        "except ValueError:\n",
        "    print(\"O valor digitado não é um número inteiro.\")"
      ],
      "metadata": {
        "colab": {
          "base_uri": "https://localhost:8080/"
        },
        "id": "_2cfvusoduob",
        "outputId": "319e2239-3608-4051-ef70-0ecd5bb2a9f4"
      },
      "execution_count": null,
      "outputs": [
        {
          "output_type": "stream",
          "name": "stdout",
          "text": [
            "Digite um número qualquer: 67\n",
            "O número é ímpar.\n"
          ]
        }
      ]
    }
  ]
}